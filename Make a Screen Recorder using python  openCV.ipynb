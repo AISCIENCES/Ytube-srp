{
 "cells": [
  {
   "cell_type": "code",
   "execution_count": 1,
   "metadata": {},
   "outputs": [],
   "source": [
    "from PIL import ImageGrab\n",
    "import numpy as np\n",
    "import cv2\n",
    "from win32api import GetSystemMetrics"
   ]
  },
  {
   "cell_type": "code",
   "execution_count": 6,
   "metadata": {},
   "outputs": [],
   "source": [
    "height, width = GetSystemMetrics(0), GetSystemMetrics(1)\n",
    "\n",
    "file_name = f'abc.mp4'\n",
    "fourc = cv2.VideoWriter_fourcc('m','p','4','v')\n",
    "capture_video = cv2.VideoWriter(file_name, fourc, 20.0, (width, height))\n",
    "\n",
    "while True:\n",
    "    img = ImageGrab.grab(bbox=(0,0, width, height))\n",
    "    img_np = np.array(img)\n",
    "    img_final = cv2.cvtColor(img_np, cv2.COLOR_BGR2RGB)\n",
    "    cv2.imshow('My Screen Recorder', img_final)\n",
    "    capture_video.write(img_final)\n",
    "    \n",
    "    if cv2.waitKey(10) == ord('q'):\n",
    "        cv2.destroyAllWindows()\n",
    "        break\n",
    "    "
   ]
  },
  {
   "cell_type": "code",
   "execution_count": null,
   "metadata": {},
   "outputs": [],
   "source": []
  },
  {
   "cell_type": "code",
   "execution_count": null,
   "metadata": {},
   "outputs": [],
   "source": []
  },
  {
   "cell_type": "code",
   "execution_count": null,
   "metadata": {},
   "outputs": [],
   "source": []
  },
  {
   "cell_type": "code",
   "execution_count": null,
   "metadata": {},
   "outputs": [],
   "source": []
  },
  {
   "cell_type": "code",
   "execution_count": null,
   "metadata": {},
   "outputs": [],
   "source": []
  }
 ],
 "metadata": {
  "kernelspec": {
   "display_name": "Python 3",
   "language": "python",
   "name": "python3"
  },
  "language_info": {
   "codemirror_mode": {
    "name": "ipython",
    "version": 3
   },
   "file_extension": ".py",
   "mimetype": "text/x-python",
   "name": "python",
   "nbconvert_exporter": "python",
   "pygments_lexer": "ipython3",
   "version": "3.8.3"
  }
 },
 "nbformat": 4,
 "nbformat_minor": 4
}
